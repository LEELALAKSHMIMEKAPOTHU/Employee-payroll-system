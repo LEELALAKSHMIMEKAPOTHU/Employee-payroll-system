{
  "cells": [
    {
      "cell_type": "markdown",
      "metadata": {
        "id": "view-in-github",
        "colab_type": "text"
      },
      "source": [
        "<a href=\"https://colab.research.google.com/github/LEELALAKSHMIMEKAPOTHU/Employee-payroll-system/blob/main/chapter_appendix-tools-for-deep-learning/jupyter.ipynb\" target=\"_parent\"><img src=\"https://colab.research.google.com/assets/colab-badge.svg\" alt=\"Open In Colab\"/></a>"
      ]
    },
    {
      "cell_type": "markdown",
      "source": [
        "\n",
        "Conditional Statements and Loops in Python:\n",
        "\n",
        "Conditional Statements: if, if-else, elif\n",
        "\n",
        "Iterative loops: For, While\n",
        "\n"
      ],
      "metadata": {
        "id": "NyZRt24_twnw"
      },
      "id": "NyZRt24_twnw"
    },
    {
      "cell_type": "code",
      "source": [
        "x = 24"
      ],
      "metadata": {
        "id": "RRUbGIP7ux6g"
      },
      "id": "RRUbGIP7ux6g",
      "execution_count": 5,
      "outputs": []
    },
    {
      "cell_type": "code",
      "source": [
        "if x%2==0:\n",
        "  print(\"The given number {} is even\".format(x))"
      ],
      "metadata": {
        "id": "Jc8qJq-Vuxxn",
        "outputId": "602702a8-eeeb-4cbb-d0c0-132971a30b99",
        "colab": {
          "base_uri": "https://localhost:8080/"
        }
      },
      "id": "Jc8qJq-Vuxxn",
      "execution_count": 7,
      "outputs": [
        {
          "output_type": "stream",
          "name": "stdout",
          "text": [
            "The given number 24 is even\n"
          ]
        }
      ]
    },
    {
      "cell_type": "code",
      "source": [
        "if(x %3==0):\n",
        "  print(x)"
      ],
      "metadata": {
        "id": "SlT7ifwKt2CX",
        "outputId": "4aa50334-e048-4c4f-c1b9-5c473ad4183b",
        "colab": {
          "base_uri": "https://localhost:8080/"
        }
      },
      "id": "SlT7ifwKt2CX",
      "execution_count": 12,
      "outputs": [
        {
          "output_type": "stream",
          "name": "stdout",
          "text": [
            "24\n"
          ]
        }
      ]
    },
    {
      "cell_type": "code",
      "source": [
        "y=33"
      ],
      "metadata": {
        "id": "DtM9Q177tuiM"
      },
      "id": "DtM9Q177tuiM",
      "execution_count": 13,
      "outputs": []
    },
    {
      "cell_type": "code",
      "source": [
        "if(y%2==0):\n",
        "  print(\"the given number {}is even\".format(y)) #since the condition another_number % 2 == 0 evaluates to False, no message is printe"
      ],
      "metadata": {
        "id": "dcL-1iS1wnuI"
      },
      "id": "dcL-1iS1wnuI",
      "execution_count": 15,
      "outputs": []
    },
    {
      "cell_type": "code",
      "source": [
        "z=33"
      ],
      "metadata": {
        "id": "-DLiSZ8Vwn33"
      },
      "id": "-DLiSZ8Vwn33",
      "execution_count": 16,
      "outputs": []
    },
    {
      "cell_type": "code",
      "source": [
        "if z%2==0:\n",
        "  print(\"the given number {} is even\".format(z))\n",
        "else:\n",
        "  print(\"the given number {} is odd\".format(z))"
      ],
      "metadata": {
        "id": "umb9AxAJwn7o",
        "outputId": "dabc5311-953f-4718-8559-25c7dd51faef",
        "colab": {
          "base_uri": "https://localhost:8080/"
        }
      },
      "id": "umb9AxAJwn7o",
      "execution_count": 17,
      "outputs": [
        {
          "output_type": "stream",
          "name": "stdout",
          "text": [
            "the given number 33 is odd\n"
          ]
        }
      ]
    },
    {
      "cell_type": "code",
      "source": [
        "the_3_musketeers = ('Athos', 'Porthos', 'Aramis')"
      ],
      "metadata": {
        "id": "bDxypNd_wn-6"
      },
      "id": "bDxypNd_wn-6",
      "execution_count": 18,
      "outputs": []
    },
    {
      "cell_type": "code",
      "source": [
        "a_candidate = \"D'Artagnan\""
      ],
      "metadata": {
        "id": "TDwW5IkqwoBz"
      },
      "id": "TDwW5IkqwoBz",
      "execution_count": 19,
      "outputs": []
    },
    {
      "cell_type": "code",
      "source": [
        "if a_candidate in the_3_musketeers:\n",
        "    print(\"{} is a musketeer\".format(a_candidate))\n",
        "else:\n",
        "    print(\"{} is not a musketeer\".format(a_candidate))"
      ],
      "metadata": {
        "id": "4i6_SXOjwoEf",
        "outputId": "f7f5e7fd-f47f-4ebc-8a79-bc4ff9d90ced",
        "colab": {
          "base_uri": "https://localhost:8080/"
        }
      },
      "id": "4i6_SXOjwoEf",
      "execution_count": 20,
      "outputs": [
        {
          "output_type": "stream",
          "name": "stdout",
          "text": [
            "D'Artagnan is not a musketeer\n"
          ]
        }
      ]
    },
    {
      "cell_type": "code",
      "source": [
        "A=('apple','banana','cherry')"
      ],
      "metadata": {
        "id": "GxQDJEGCwoHB"
      },
      "id": "GxQDJEGCwoHB",
      "execution_count": 29,
      "outputs": []
    },
    {
      "cell_type": "code",
      "source": [
        "fruits='apple'"
      ],
      "metadata": {
        "id": "pHTpnqUkwoJy"
      },
      "id": "pHTpnqUkwoJy",
      "execution_count": 30,
      "outputs": []
    },
    {
      "cell_type": "code",
      "source": [
        "fruit='guava'"
      ],
      "metadata": {
        "id": "4z7lA7_8woMu"
      },
      "id": "4z7lA7_8woMu",
      "execution_count": 31,
      "outputs": []
    },
    {
      "cell_type": "code",
      "source": [
        "if fruit in A:\n",
        "  print(\"{} is in A\".format(fruit))\n",
        "else:\n",
        "  print(\"{} is not in A\".format(fruit))"
      ],
      "metadata": {
        "id": "vz1bCJ06yqEs",
        "outputId": "0cace84d-fac9-4bde-8b30-ed92cc6101aa",
        "colab": {
          "base_uri": "https://localhost:8080/"
        }
      },
      "id": "vz1bCJ06yqEs",
      "execution_count": 32,
      "outputs": [
        {
          "output_type": "stream",
          "name": "stdout",
          "text": [
            "guava is not in A\n"
          ]
        }
      ]
    },
    {
      "cell_type": "code",
      "source": [
        "if fruits in A:\n",
        "  print(\"{} is in A\".format(fruits))\n",
        "else:\n",
        "  print(\"{} is not in A\".format(fruits))"
      ],
      "metadata": {
        "id": "HVAT5inWwoP4",
        "outputId": "5a258672-808c-4c4e-802d-1c6b019b94d7",
        "colab": {
          "base_uri": "https://localhost:8080/"
        }
      },
      "id": "HVAT5inWwoP4",
      "execution_count": 26,
      "outputs": [
        {
          "output_type": "stream",
          "name": "stdout",
          "text": [
            "apple is in A\n"
          ]
        }
      ]
    },
    {
      "cell_type": "code",
      "source": [
        "today=\"Friday\""
      ],
      "metadata": {
        "id": "tReLTGCmy8m6"
      },
      "id": "tReLTGCmy8m6",
      "execution_count": 33,
      "outputs": []
    },
    {
      "cell_type": "code",
      "source": [
        "if today=='sunday':\n",
        "  print(1)\n",
        "elif today==\"monday\":\n",
        "  print(2)\n",
        "elif today==\"Tuesday\":\n",
        "  print(3)\n",
        "elif today==\"Friday\":\n",
        "  print(0)\n",
        "else:\n",
        "  print(\"none\")\n"
      ],
      "metadata": {
        "id": "Q0VH8Vk7y8ja",
        "outputId": "d7beb087-06e7-4d0b-9c53-463c93a1ffbb",
        "colab": {
          "base_uri": "https://localhost:8080/"
        }
      },
      "id": "Q0VH8Vk7y8ja",
      "execution_count": 36,
      "outputs": [
        {
          "output_type": "stream",
          "name": "stdout",
          "text": [
            "0\n"
          ]
        }
      ]
    },
    {
      "cell_type": "code",
      "source": [
        "L=15"
      ],
      "metadata": {
        "id": "83uz0OIjy8dJ"
      },
      "id": "83uz0OIjy8dJ",
      "execution_count": 39,
      "outputs": []
    },
    {
      "cell_type": "code",
      "source": [
        "if L%2==0:\n",
        "  print(\"the given num {} is divisible by 2\".format(L))\n",
        "elif L%3==0:\n",
        "  print(\"the given num {} is divisible by 3\".format(L))\n",
        "elif L%5==0:\n",
        "  print(\"the given num {} is divisible by 5\".format(L))\n",
        "elif L%15==0:\n",
        "  print(\"the given num {} is divisible by 15\".format(L))\n",
        "else:\n",
        "  print(\"none will divisible\")\n"
      ],
      "metadata": {
        "id": "0nA0Xz9Oy8Z1",
        "outputId": "d3ad42ba-b26a-4c54-8a39-ac2e6d40abd8",
        "colab": {
          "base_uri": "https://localhost:8080/"
        }
      },
      "id": "0nA0Xz9Oy8Z1",
      "execution_count": 40,
      "outputs": [
        {
          "output_type": "stream",
          "name": "stdout",
          "text": [
            "the given num 15 is divisible by 3\n"
          ]
        }
      ]
    },
    {
      "cell_type": "markdown",
      "source": [
        "Note that the message 15 is divisible by 5 ,15 is not printed because the condition a_number % 5 == 0 isn't evaluated, since the previous condition a_number % 3 == 0 evaluates to True. This is the key difference between using a chain of if, elif, elif... statements vs. a chain of if statements, where each condition is evaluated independently."
      ],
      "metadata": {
        "id": "T_h-p7-Z106s"
      },
      "id": "T_h-p7-Z106s"
    },
    {
      "cell_type": "code",
      "source": [
        "a_number = 15"
      ],
      "metadata": {
        "id": "rrMUWUNAy8Wb"
      },
      "id": "rrMUWUNAy8Wb",
      "execution_count": 41,
      "outputs": []
    },
    {
      "cell_type": "code",
      "source": [
        "if a_number % 2 == 0:\n",
        "    print('{} is divisible by 2'.format(a_number))\n",
        "if a_number % 3 == 0:\n",
        "    print('{} is divisible by 3'.format(a_number))\n",
        "if a_number % 5 == 0:\n",
        "    print('{} is divisible by 5'.format(a_number))\n",
        "if a_number % 15 == 0:\n",
        "    print('{} is divisible by 7'.format(a_number))"
      ],
      "metadata": {
        "id": "lxCNIbgmy8S2",
        "outputId": "cd61a019-4cb5-4ec8-80db-d5234235b800",
        "colab": {
          "base_uri": "https://localhost:8080/"
        }
      },
      "id": "lxCNIbgmy8S2",
      "execution_count": 43,
      "outputs": [
        {
          "output_type": "stream",
          "name": "stdout",
          "text": [
            "15 is divisible by 3\n",
            "15 is divisible by 5\n",
            "15 is divisible by 7\n"
          ]
        }
      ]
    },
    {
      "cell_type": "markdown",
      "source": [
        "if statements, where each condition is evaluated independently."
      ],
      "metadata": {
        "id": "Oq82MjLn2bZm"
      },
      "id": "Oq82MjLn2bZm"
    },
    {
      "cell_type": "code",
      "source": [
        "a_number = 49"
      ],
      "metadata": {
        "id": "uVF8AaJJ2cll"
      },
      "id": "uVF8AaJJ2cll",
      "execution_count": 44,
      "outputs": []
    },
    {
      "cell_type": "code",
      "source": [
        "if a_number % 2 == 0:\n",
        "    print('{} is divisible by 2'.format(a_number))\n",
        "elif a_number % 3 == 0:\n",
        "    print('{} is divisible by 3'.format(a_number))\n",
        "elif a_number % 5 == 0:\n",
        "    print('{} is divisible by 5'.format(a_number))\n",
        "else:\n",
        "    print('All checks failed!')\n",
        "    print('{} is not divisible by 2, 3 or 5'.format(a_number))"
      ],
      "metadata": {
        "id": "Y5VSeKgRy8Nk",
        "outputId": "2f1abf48-e746-4e08-a9df-4238f2e3d816",
        "colab": {
          "base_uri": "https://localhost:8080/"
        }
      },
      "id": "Y5VSeKgRy8Nk",
      "execution_count": 45,
      "outputs": [
        {
          "output_type": "stream",
          "name": "stdout",
          "text": [
            "All checks failed!\n",
            "49 is not divisible by 2, 3 or 5\n"
          ]
        }
      ]
    },
    {
      "cell_type": "code",
      "source": [
        "a_number = 12"
      ],
      "metadata": {
        "id": "813kKl2Ny8FP"
      },
      "id": "813kKl2Ny8FP",
      "execution_count": 46,
      "outputs": []
    },
    {
      "cell_type": "code",
      "source": [
        "if a_number % 3 == 0 and a_number % 5 == 0:\n",
        "    print(\"The number {} is divisible by 3 and 5\".format(a_number))\n",
        "elif not a_number % 5 == 0:\n",
        "    print(\"The number {} is not divisible by 5\".format(a_number))"
      ],
      "metadata": {
        "id": "wts-TOnT2yao",
        "outputId": "7b201bfe-f7cb-40db-8371-40fc94d6d96f",
        "colab": {
          "base_uri": "https://localhost:8080/"
        }
      },
      "id": "wts-TOnT2yao",
      "execution_count": 47,
      "outputs": [
        {
          "output_type": "stream",
          "name": "stdout",
          "text": [
            "The number 12 is not divisible by 5\n"
          ]
        }
      ]
    },
    {
      "cell_type": "code",
      "source": [
        "if a_number % 3 == 0 or a_number % 4 == 0:\n",
        "    print(\"The number {} is divisible by 3 and 4\".format(a_number))\n",
        "elif not a_number % 5 == 0:\n",
        "    print(\"The number {} is not divisible by 5\".format(a_number))"
      ],
      "metadata": {
        "id": "fVXmVI8K2yWw",
        "outputId": "bbaf7070-ee13-4a53-d187-49df4b2abcce",
        "colab": {
          "base_uri": "https://localhost:8080/"
        }
      },
      "id": "fVXmVI8K2yWw",
      "execution_count": 49,
      "outputs": [
        {
          "output_type": "stream",
          "name": "stdout",
          "text": [
            "The number 12 is divisible by 3 and 4\n"
          ]
        }
      ]
    },
    {
      "cell_type": "markdown",
      "source": [
        "\n",
        "**Non-Boolean Conditions:**\n",
        "\n"
      ],
      "metadata": {
        "id": "iWGgC29j3atV"
      },
      "id": "iWGgC29j3atV"
    },
    {
      "cell_type": "code",
      "source": [
        "if '':\n",
        "  print(\"True\")\n",
        "else:\n",
        "  print(\"False\")"
      ],
      "metadata": {
        "id": "ky_93VlO2yR3",
        "outputId": "27da3e00-4676-4d05-e1e1-a1313d176a23",
        "colab": {
          "base_uri": "https://localhost:8080/"
        }
      },
      "id": "ky_93VlO2yR3",
      "execution_count": 51,
      "outputs": [
        {
          "output_type": "stream",
          "name": "stdout",
          "text": [
            "False\n"
          ]
        }
      ]
    },
    {
      "cell_type": "code",
      "source": [
        "if 'hii':\n",
        "  print(\"True\")\n",
        "else:\n",
        "  print(\"False\")"
      ],
      "metadata": {
        "id": "vROdmOCJ2yOH",
        "outputId": "9eaa33a0-03bd-4042-ffaa-ac6bad2e129d",
        "colab": {
          "base_uri": "https://localhost:8080/"
        }
      },
      "id": "vROdmOCJ2yOH",
      "execution_count": 53,
      "outputs": [
        {
          "output_type": "stream",
          "name": "stdout",
          "text": [
            "True\n"
          ]
        }
      ]
    },
    {
      "cell_type": "code",
      "source": [
        "if { 'a': 34 }:\n",
        "    print('The condition evaluted to True')\n",
        "else:\n",
        "    print('The condition evaluted to False')"
      ],
      "metadata": {
        "id": "GU2YlGI82yJV",
        "outputId": "c9114e64-c951-474f-fde9-2b1545fd8b6d",
        "colab": {
          "base_uri": "https://localhost:8080/"
        }
      },
      "id": "GU2YlGI82yJV",
      "execution_count": 54,
      "outputs": [
        {
          "output_type": "stream",
          "name": "stdout",
          "text": [
            "The condition evaluted to True\n"
          ]
        }
      ]
    },
    {
      "cell_type": "code",
      "source": [
        "if None:\n",
        "    print('The condition evaluted to True')\n",
        "else:\n",
        "    print('The condition evaluted to False')"
      ],
      "metadata": {
        "id": "N9927TCn2yE-",
        "outputId": "745ecbee-ba22-467f-c133-0e5e07dd9ce6",
        "colab": {
          "base_uri": "https://localhost:8080/"
        }
      },
      "id": "N9927TCn2yE-",
      "execution_count": 55,
      "outputs": [
        {
          "output_type": "stream",
          "name": "stdout",
          "text": [
            "The condition evaluted to False\n"
          ]
        }
      ]
    },
    {
      "cell_type": "code",
      "source": [
        "a_number = 13\n",
        "\n",
        "if a_number % 2 == 0:\n",
        "    parity = 'even'\n",
        "else:\n",
        "    parity = 'odd'\n",
        "\n",
        "print('The number {} is {}.'.format(a_number, parity))"
      ],
      "metadata": {
        "id": "ulwd0MWI2yAc",
        "outputId": "8a35759b-0926-4fce-b80c-374a3c4e4d9f",
        "colab": {
          "base_uri": "https://localhost:8080/"
        }
      },
      "id": "ulwd0MWI2yAc",
      "execution_count": 56,
      "outputs": [
        {
          "output_type": "stream",
          "name": "stdout",
          "text": [
            "The number 13 is odd.\n"
          ]
        }
      ]
    },
    {
      "cell_type": "markdown",
      "source": [
        "Statements: A statement is an instruction that can be executed. Every line of code we have written so far is a statement e.g. assigning a variable, calling a function, conditional statements using if, else, and elif, loops using for and while etc.\n",
        "\n",
        "Expressions: An expression is some code that evaluates to a value. Examples include values of different data types, arithmetic expressions, conditions, variables, function calls, conditional expressions, etc."
      ],
      "metadata": {
        "id": "n2LXgfodL5ku"
      },
      "id": "n2LXgfodL5ku"
    },
    {
      "cell_type": "code",
      "source": [
        "result = if a_number % 2 == 0:\n",
        "    'even'\n",
        "else:\n",
        "    'odd'"
      ],
      "metadata": {
        "id": "HwqHGVPL2x6u",
        "outputId": "7988cb43-1367-4482-a78e-627d73b5473e",
        "colab": {
          "base_uri": "https://localhost:8080/",
          "height": 106
        }
      },
      "id": "HwqHGVPL2x6u",
      "execution_count": 57,
      "outputs": [
        {
          "output_type": "error",
          "ename": "SyntaxError",
          "evalue": "invalid syntax (<ipython-input-57-fe48ca6eb6b1>, line 1)",
          "traceback": [
            "\u001b[0;36m  File \u001b[0;32m\"<ipython-input-57-fe48ca6eb6b1>\"\u001b[0;36m, line \u001b[0;32m1\u001b[0m\n\u001b[0;31m    result = if a_number % 2 == 0:\u001b[0m\n\u001b[0m             ^\u001b[0m\n\u001b[0;31mSyntaxError\u001b[0m\u001b[0;31m:\u001b[0m invalid syntax\n"
          ]
        }
      ]
    },
    {
      "cell_type": "code",
      "source": [
        "result = 'even' if a_number % 2 == 0 else 'odd'"
      ],
      "metadata": {
        "id": "dCfNrPdA2xrv"
      },
      "id": "dCfNrPdA2xrv",
      "execution_count": 59,
      "outputs": []
    },
    {
      "cell_type": "code",
      "source": [
        "a_number = 13\n",
        "result = 'even' if a_number % 2 == 0 else 'odd'\n"
      ],
      "metadata": {
        "id": "FRk-d7vn2xm9"
      },
      "id": "FRk-d7vn2xm9",
      "execution_count": 60,
      "outputs": []
    },
    {
      "cell_type": "code",
      "source": [
        "a=9\n",
        "if a%2==0:\n",
        "elif a%3==0:\n",
        "  print('{}is divisble by 3 but not by 2')"
      ],
      "metadata": {
        "id": "9MdQtzCRMcud",
        "outputId": "53508927-6578-4195-eb13-001e673bfda0",
        "colab": {
          "base_uri": "https://localhost:8080/",
          "height": 106
        }
      },
      "id": "9MdQtzCRMcud",
      "execution_count": 61,
      "outputs": [
        {
          "output_type": "error",
          "ename": "IndentationError",
          "evalue": "expected an indented block after 'if' statement on line 2 (<ipython-input-61-f6688a418353>, line 3)",
          "traceback": [
            "\u001b[0;36m  File \u001b[0;32m\"<ipython-input-61-f6688a418353>\"\u001b[0;36m, line \u001b[0;32m3\u001b[0m\n\u001b[0;31m    elif a%3==0:\u001b[0m\n\u001b[0m    ^\u001b[0m\n\u001b[0;31mIndentationError\u001b[0m\u001b[0;31m:\u001b[0m expected an indented block after 'if' statement on line 2\n"
          ]
        }
      ]
    },
    {
      "cell_type": "code",
      "source": [
        "a=9"
      ],
      "metadata": {
        "id": "oZMQaO3qMdHx"
      },
      "id": "oZMQaO3qMdHx",
      "execution_count": 64,
      "outputs": []
    },
    {
      "cell_type": "code",
      "source": [
        "if a%2==0:\n",
        "  pass\n",
        "elif a%3==0:\n",
        "  print('{} is divisble by 3 but not by 2'.format(a))"
      ],
      "metadata": {
        "id": "KUcS8rwpMdNZ",
        "outputId": "d0c4722a-350f-4a0c-cebb-01a5068b1f11",
        "colab": {
          "base_uri": "https://localhost:8080/"
        }
      },
      "id": "KUcS8rwpMdNZ",
      "execution_count": 67,
      "outputs": [
        {
          "output_type": "stream",
          "name": "stdout",
          "text": [
            "9 is divisble by 3 but not by 2\n"
          ]
        }
      ]
    },
    {
      "cell_type": "markdown",
      "source": [
        "**Iteration with while loop**\n",
        "\n",
        "while condition:\n",
        "\n",
        "    statement(s)\n",
        "    \n",
        "Statements in the code block under while are executed repeatedly as long as the condition evaluates to True. Generally, one of the statements under while makes some change to a variable that causes the condition to evaluate to False after a certain number of iterations."
      ],
      "metadata": {
        "id": "C3Wy3ycqN-GJ"
      },
      "id": "C3Wy3ycqN-GJ"
    },
    {
      "cell_type": "code",
      "source": [
        "\n",
        "#The factorial of a number n is the product (multiplication) of all the numbers from 1 to n, i.e., 1*2*3*...*(n-2)*(n-1)*n.\n",
        "\n",
        "result =1\n",
        "i=1\n",
        "\n",
        "while i<=10:\n",
        "  result= result*i\n",
        "  i=i+1\n",
        "print('The factorial of 10 is: {}'.format(result))"
      ],
      "metadata": {
        "id": "ydJIbMOgMdSX",
        "outputId": "d2346d2a-9cec-48b4-eeb6-5be25501db14",
        "colab": {
          "base_uri": "https://localhost:8080/"
        }
      },
      "id": "ydJIbMOgMdSX",
      "execution_count": 77,
      "outputs": [
        {
          "output_type": "stream",
          "name": "stdout",
          "text": [
            "The factorial of 10 is: 3628800\n"
          ]
        }
      ]
    },
    {
      "cell_type": "code",
      "source": [
        "\n",
        "\n",
        "result=0\n",
        "i=100\n",
        "\n",
        "while i>=50:\n",
        "  result= result+i\n",
        "  i=i-1\n",
        "  print(result)"
      ],
      "metadata": {
        "id": "nsj57y1GMdXK",
        "outputId": "7511da6f-b31c-4b0e-810c-1d375bc43bce",
        "colab": {
          "base_uri": "https://localhost:8080/"
        }
      },
      "id": "nsj57y1GMdXK",
      "execution_count": 83,
      "outputs": [
        {
          "output_type": "stream",
          "name": "stdout",
          "text": [
            "100\n",
            "199\n",
            "297\n",
            "394\n",
            "490\n",
            "585\n",
            "679\n",
            "772\n",
            "864\n",
            "955\n",
            "1045\n",
            "1134\n",
            "1222\n",
            "1309\n",
            "1395\n",
            "1480\n",
            "1564\n",
            "1647\n",
            "1729\n",
            "1810\n",
            "1890\n",
            "1969\n",
            "2047\n",
            "2124\n",
            "2200\n",
            "2275\n",
            "2349\n",
            "2422\n",
            "2494\n",
            "2565\n",
            "2635\n",
            "2704\n",
            "2772\n",
            "2839\n",
            "2905\n",
            "2970\n",
            "3034\n",
            "3097\n",
            "3159\n",
            "3220\n",
            "3280\n",
            "3339\n",
            "3397\n",
            "3454\n",
            "3510\n",
            "3565\n",
            "3619\n",
            "3672\n",
            "3724\n",
            "3775\n",
            "3825\n"
          ]
        }
      ]
    },
    {
      "cell_type": "code",
      "source": [
        "%%time\n",
        "\n",
        "result = 1\n",
        "i = 1\n",
        "\n",
        "while i <= 1000:\n",
        "    result *= i # same as result = result * i\n",
        "    i += 1 # same as i = i+1\n",
        "\n",
        "print(result)"
      ],
      "metadata": {
        "id": "lx-0ywY7Mdcy",
        "outputId": "8e75209e-818d-480f-bd02-01d1e1cd3b4e",
        "colab": {
          "base_uri": "https://localhost:8080/"
        }
      },
      "id": "lx-0ywY7Mdcy",
      "execution_count": 79,
      "outputs": [
        {
          "output_type": "stream",
          "name": "stdout",
          "text": [
            "402387260077093773543702433923003985719374864210714632543799910429938512398629020592044208486969404800479988610197196058631666872994808558901323829669944590997424504087073759918823627727188732519779505950995276120874975462497043601418278094646496291056393887437886487337119181045825783647849977012476632889835955735432513185323958463075557409114262417474349347553428646576611667797396668820291207379143853719588249808126867838374559731746136085379534524221586593201928090878297308431392844403281231558611036976801357304216168747609675871348312025478589320767169132448426236131412508780208000261683151027341827977704784635868170164365024153691398281264810213092761244896359928705114964975419909342221566832572080821333186116811553615836546984046708975602900950537616475847728421889679646244945160765353408198901385442487984959953319101723355556602139450399736280750137837615307127761926849034352625200015888535147331611702103968175921510907788019393178114194545257223865541461062892187960223838971476088506276862967146674697562911234082439208160153780889893964518263243671616762179168909779911903754031274622289988005195444414282012187361745992642956581746628302955570299024324153181617210465832036786906117260158783520751516284225540265170483304226143974286933061690897968482590125458327168226458066526769958652682272807075781391858178889652208164348344825993266043367660176999612831860788386150279465955131156552036093988180612138558600301435694527224206344631797460594682573103790084024432438465657245014402821885252470935190620929023136493273497565513958720559654228749774011413346962715422845862377387538230483865688976461927383814900140767310446640259899490222221765904339901886018566526485061799702356193897017860040811889729918311021171229845901641921068884387121855646124960798722908519296819372388642614839657382291123125024186649353143970137428531926649875337218940694281434118520158014123344828015051399694290153483077644569099073152433278288269864602789864321139083506217095002597389863554277196742822248757586765752344220207573630569498825087968928162753848863396909959826280956121450994871701244516461260379029309120889086942028510640182154399457156805941872748998094254742173582401063677404595741785160829230135358081840096996372524230560855903700624271243416909004153690105933983835777939410970027753472000000000000000000000000000000000000000000000000000000000000000000000000000000000000000000000000000000000000000000000000000000000000000000000000000000000000000000000000000000000000000000000000000000000000000000000000000000000000000000000000000000000\n",
            "CPU times: user 629 µs, sys: 0 ns, total: 629 µs\n",
            "Wall time: 663 µs\n"
          ]
        }
      ]
    },
    {
      "cell_type": "code",
      "source": [
        "line=\"*\"\n",
        "max_length=10\n",
        "\n",
        "while len(line)<=max_length:\n",
        "  print(line)\n",
        "  line+=\"*\""
      ],
      "metadata": {
        "id": "TdZXa6u-Mdny",
        "outputId": "c0663a0d-f484-44ea-8a4f-621b1dd5d6d2",
        "colab": {
          "base_uri": "https://localhost:8080/"
        }
      },
      "id": "TdZXa6u-Mdny",
      "execution_count": 86,
      "outputs": [
        {
          "output_type": "stream",
          "name": "stdout",
          "text": [
            "*\n",
            "**\n",
            "***\n",
            "****\n",
            "*****\n",
            "******\n",
            "*******\n",
            "********\n",
            "*********\n",
            "**********\n"
          ]
        }
      ]
    },
    {
      "cell_type": "code",
      "source": [
        "line=\"*\"\n",
        "max_length=10\n",
        "\n",
        "while len(line)<max_length:\n",
        "  print(line)\n",
        "  line+=\"*\"\n",
        "\n",
        "while len(line) > 0:\n",
        "    print(line)\n",
        "    line = line[:-1]"
      ],
      "metadata": {
        "id": "sIYv3g60MdwA",
        "outputId": "13a5738c-5f45-4300-a424-2d8028c9e3c0",
        "colab": {
          "base_uri": "https://localhost:8080/"
        }
      },
      "id": "sIYv3g60MdwA",
      "execution_count": 90,
      "outputs": [
        {
          "output_type": "stream",
          "name": "stdout",
          "text": [
            "*\n",
            "**\n",
            "***\n",
            "****\n",
            "*****\n",
            "******\n",
            "*******\n",
            "********\n",
            "*********\n",
            "**********\n",
            "*********\n",
            "********\n",
            "*******\n",
            "******\n",
            "*****\n",
            "****\n",
            "***\n",
            "**\n",
            "*\n"
          ]
        }
      ]
    },
    {
      "cell_type": "code",
      "source": [
        "# prompt: *\n",
        "#          **\n",
        "#         ***\n",
        "#        ****\n",
        "#       *****\n",
        "#      ******\n",
        "#       *****\n",
        "#        ****\n",
        "#         ***\n",
        "#          **\n",
        "#           *\n",
        "\n",
        "rows = 6\n",
        "for i in range(1, rows + 1):\n",
        "    print(\" \" * (rows - i) + \"*\" * i)\n",
        "for i in range(rows - 1, 0, -1):\n",
        "    print(\" \" * (rows - i) + \"*\" * i)"
      ],
      "metadata": {
        "id": "Xb_oPJV1Md4B",
        "outputId": "b3777261-a11f-490e-85a4-027fc0f5108e",
        "colab": {
          "base_uri": "https://localhost:8080/"
        }
      },
      "id": "Xb_oPJV1Md4B",
      "execution_count": 91,
      "outputs": [
        {
          "output_type": "stream",
          "name": "stdout",
          "text": [
            "     *\n",
            "    **\n",
            "   ***\n",
            "  ****\n",
            " *****\n",
            "******\n",
            " *****\n",
            "  ****\n",
            "   ***\n",
            "    **\n",
            "     *\n"
          ]
        }
      ]
    },
    {
      "cell_type": "markdown",
      "source": [
        "break and continue statements:\n",
        "\n",
        "You can use the break statement within the loop's body to immediately stop the execution and break out of the loop (even if the condition provided to while still holds true)."
      ],
      "metadata": {
        "id": "rpoKJzgXV1Nv"
      },
      "id": "rpoKJzgXV1Nv"
    },
    {
      "cell_type": "code",
      "source": [
        "i = 1\n",
        "result = 1\n",
        "\n",
        "while i <= 100:\n",
        "    result *= i\n",
        "    if i == 42:\n",
        "        print('Magic number 42 reached! Stopping execution..')\n",
        "        #break\n",
        "    i += 1\n",
        "\n",
        "print('i:', i)\n",
        "print('result:', result)"
      ],
      "metadata": {
        "id": "Cy7aMBZVT_SH",
        "outputId": "91246077-fb38-4687-a782-e0a633a28f6c",
        "colab": {
          "base_uri": "https://localhost:8080/"
        }
      },
      "id": "Cy7aMBZVT_SH",
      "execution_count": 92,
      "outputs": [
        {
          "output_type": "stream",
          "name": "stdout",
          "text": [
            "Magic number 42 reached! Stopping execution..\n",
            "i: 101\n",
            "result: 93326215443944152681699238856266700490715968264381621468592963895217599993229915608941463976156518286253697920827223758251185210916864000000000000000000000000\n"
          ]
        }
      ]
    },
    {
      "cell_type": "code",
      "source": [
        "i = 1\n",
        "result = 1\n",
        "\n",
        "while i <= 100:\n",
        "    result *= i\n",
        "    if i == 42:\n",
        "        print('Magic number 42 reached! Stopping execution..')\n",
        "        break\n",
        "    i += 1\n",
        "\n",
        "print('i:', i)\n",
        "print('result:', result)"
      ],
      "metadata": {
        "id": "n6GIWDwaT_XY",
        "outputId": "26fe32fb-145d-43b8-bc06-e73444a74651",
        "colab": {
          "base_uri": "https://localhost:8080/"
        }
      },
      "id": "n6GIWDwaT_XY",
      "execution_count": 93,
      "outputs": [
        {
          "output_type": "stream",
          "name": "stdout",
          "text": [
            "Magic number 42 reached! Stopping execution..\n",
            "i: 42\n",
            "result: 1405006117752879898543142606244511569936384000000000\n"
          ]
        }
      ]
    },
    {
      "cell_type": "code",
      "source": [
        "i = 1\n",
        "result = 1\n",
        "\n",
        "while i < 20:\n",
        "    i += 1\n",
        "    if i % 2 == 0:\n",
        "        print('Skipping {}'.format(i))\n",
        "        continue\n",
        "    print('Multiplying with {}'.format(i))\n",
        "    result = result * i\n",
        "\n",
        "print('i:', i)\n",
        "print('result:', result)"
      ],
      "metadata": {
        "id": "E88rvB37T_bZ",
        "outputId": "b27d37c2-d4a7-49bf-cddb-938ac18f8b30",
        "colab": {
          "base_uri": "https://localhost:8080/"
        }
      },
      "id": "E88rvB37T_bZ",
      "execution_count": 94,
      "outputs": [
        {
          "output_type": "stream",
          "name": "stdout",
          "text": [
            "Skipping 2\n",
            "Multiplying with 3\n",
            "Skipping 4\n",
            "Multiplying with 5\n",
            "Skipping 6\n",
            "Multiplying with 7\n",
            "Skipping 8\n",
            "Multiplying with 9\n",
            "Skipping 10\n",
            "Multiplying with 11\n",
            "Skipping 12\n",
            "Multiplying with 13\n",
            "Skipping 14\n",
            "Multiplying with 15\n",
            "Skipping 16\n",
            "Multiplying with 17\n",
            "Skipping 18\n",
            "Multiplying with 19\n",
            "Skipping 20\n",
            "i: 20\n",
            "result: 654729075\n"
          ]
        }
      ]
    },
    {
      "cell_type": "markdown",
      "source": [
        "**Iteration with for loop**:\n",
        "A for loop is used for iterating or looping over sequences, i.e., lists, tuples, dictionaries, strings, and ranges. For loops have the following syntax:\n",
        "\n",
        "\n",
        "for value in sequence:\n",
        "\n",
        "    statement(s)\n",
        "\n",
        "The statements within the loop are executed once for each element in sequence. Here's an example that prints all the element of a list."
      ],
      "metadata": {
        "id": "aG1ZjAF9Wckq"
      },
      "id": "aG1ZjAF9Wckq"
    },
    {
      "cell_type": "code",
      "source": [
        "k=['monday','tuesday','wednesday','thursday','friday'] # sequence\n",
        "\n",
        "for day in k: # for value in sequence\n",
        "  print(day)"
      ],
      "metadata": {
        "id": "5PMDzyQ6T_fu",
        "outputId": "90568089-102e-45fc-f7dc-9196d90a4703",
        "colab": {
          "base_uri": "https://localhost:8080/"
        }
      },
      "id": "5PMDzyQ6T_fu",
      "execution_count": 95,
      "outputs": [
        {
          "output_type": "stream",
          "name": "stdout",
          "text": [
            "monday\n",
            "tuesday\n",
            "wednesday\n",
            "thursday\n",
            "friday\n"
          ]
        }
      ]
    },
    {
      "cell_type": "code",
      "source": [
        "# Looping over a string\n",
        "for char in 'monday':\n",
        "  print(char)"
      ],
      "metadata": {
        "id": "OmM6mCc2T_kO",
        "outputId": "8dc1d2a9-e5e2-40b5-f738-98229412603d",
        "colab": {
          "base_uri": "https://localhost:8080/"
        }
      },
      "id": "OmM6mCc2T_kO",
      "execution_count": 96,
      "outputs": [
        {
          "output_type": "stream",
          "name": "stdout",
          "text": [
            "m\n",
            "o\n",
            "n\n",
            "d\n",
            "a\n",
            "y\n"
          ]
        }
      ]
    },
    {
      "cell_type": "code",
      "source": [
        "nums=(1,2,3,5,67,8,9)\n",
        "for value in nums:\n",
        "  print(value)"
      ],
      "metadata": {
        "id": "KAjPfbdjXvTS",
        "outputId": "24a39199-3392-4c1f-c1b0-34e60efb9972",
        "colab": {
          "base_uri": "https://localhost:8080/"
        }
      },
      "id": "KAjPfbdjXvTS",
      "execution_count": 97,
      "outputs": [
        {
          "output_type": "stream",
          "name": "stdout",
          "text": [
            "1\n",
            "2\n",
            "3\n",
            "5\n",
            "67\n",
            "8\n",
            "9\n"
          ]
        }
      ]
    },
    {
      "cell_type": "code",
      "source": [
        "# Looping over a tuple\n",
        "for fruit in('apple','banana'):\n",
        "  #print(\"i like\",fruit)\n",
        "  print(fruit)"
      ],
      "metadata": {
        "id": "06mMhcYOXxhF",
        "outputId": "64f9fee2-692a-4ab5-8ce9-174f6c05897e",
        "colab": {
          "base_uri": "https://localhost:8080/"
        }
      },
      "id": "06mMhcYOXxhF",
      "execution_count": 101,
      "outputs": [
        {
          "output_type": "stream",
          "name": "stdout",
          "text": [
            "apple\n",
            "banana\n"
          ]
        }
      ]
    },
    {
      "cell_type": "code",
      "source": [
        "# Looping over a dictionary\n",
        "person = {\n",
        "    'name': 'John Doe',\n",
        "    # key: value\n",
        "    'sex': 'Male',\n",
        "    'age': 32,\n",
        "    'married': True\n",
        "}\n",
        "\n",
        "for key in person:\n",
        "  #print(\"Key:\", key, \",\", \"Value:\", person[key])\n",
        "  print(key)\n"
      ],
      "metadata": {
        "id": "XNV5GzXHXxn9",
        "outputId": "1cb8a843-9b3e-4cb3-e1a9-bf249f966997",
        "colab": {
          "base_uri": "https://localhost:8080/"
        }
      },
      "id": "XNV5GzXHXxn9",
      "execution_count": 109,
      "outputs": [
        {
          "output_type": "stream",
          "name": "stdout",
          "text": [
            "name\n",
            "sex\n",
            "age\n",
            "married\n"
          ]
        }
      ]
    },
    {
      "cell_type": "code",
      "source": [
        "for value in person.values():\n",
        "    print(value)"
      ],
      "metadata": {
        "id": "Dx2xR4_gXxuI",
        "outputId": "55d00d07-3c3d-4972-f4eb-8db6b1d10d28",
        "colab": {
          "base_uri": "https://localhost:8080/"
        }
      },
      "id": "Dx2xR4_gXxuI",
      "execution_count": 106,
      "outputs": [
        {
          "output_type": "stream",
          "name": "stdout",
          "text": [
            "John Doe\n",
            "Male\n",
            "32\n",
            "True\n"
          ]
        }
      ]
    },
    {
      "cell_type": "code",
      "source": [
        "for key_value_pair in person.items():\n",
        "    print(key_value_pair)"
      ],
      "metadata": {
        "id": "-jmi5OHWXxym",
        "outputId": "8457327b-1706-493e-82e6-e1aa4f470cbf",
        "colab": {
          "base_uri": "https://localhost:8080/"
        }
      },
      "id": "-jmi5OHWXxym",
      "execution_count": 107,
      "outputs": [
        {
          "output_type": "stream",
          "name": "stdout",
          "text": [
            "('name', 'John Doe')\n",
            "('sex', 'Male')\n",
            "('age', 32)\n",
            "('married', True)\n"
          ]
        }
      ]
    },
    {
      "cell_type": "code",
      "source": [
        "for key, value in person.items():\n",
        "    print(\"Key:\", key, \",\", \"Value:\", value)"
      ],
      "metadata": {
        "id": "dK0EtsnhZ1Tm",
        "outputId": "4360228d-1f6d-4c4b-f47a-02c3ac1a74aa",
        "colab": {
          "base_uri": "https://localhost:8080/"
        }
      },
      "id": "dK0EtsnhZ1Tm",
      "execution_count": 108,
      "outputs": [
        {
          "output_type": "stream",
          "name": "stdout",
          "text": [
            "Key: name , Value: John Doe\n",
            "Key: sex , Value: Male\n",
            "Key: age , Value: 32\n",
            "Key: married , Value: True\n"
          ]
        }
      ]
    },
    {
      "cell_type": "markdown",
      "source": [
        "**Iterating using range and enumerate:**\n",
        "\n",
        "The range function is used to create a sequence of numbers that can be iterated over using a for loop. It can be used in 3 ways:\n",
        "\n",
        "range(n) - Creates a sequence of numbers from 0 to n-1\n",
        "\n",
        "range(a, b) - Creates a sequence of numbers from a to b-1\n",
        "\n",
        "range(a, b, step) - Creates a sequence of numbers from a to b-1 with increments of step"
      ],
      "metadata": {
        "id": "9BuFNm7qaJgn"
      },
      "id": "9BuFNm7qaJgn"
    },
    {
      "cell_type": "code",
      "source": [
        "for i in range(7):\n",
        "    print(i)"
      ],
      "metadata": {
        "id": "5ZQAwh1vXx2q",
        "outputId": "d24bca5f-50eb-43a7-ec4e-43ce42ec9d9f",
        "colab": {
          "base_uri": "https://localhost:8080/"
        }
      },
      "id": "5ZQAwh1vXx2q",
      "execution_count": 119,
      "outputs": [
        {
          "output_type": "stream",
          "name": "stdout",
          "text": [
            "0\n",
            "1\n",
            "2\n",
            "3\n",
            "4\n",
            "5\n",
            "6\n"
          ]
        }
      ]
    },
    {
      "cell_type": "code",
      "source": [
        "for i in range(3,10):\n",
        "    print(i)"
      ],
      "metadata": {
        "id": "BR-Qx85FXyAQ",
        "outputId": "36ac56ec-920a-4d76-819d-700def60e262",
        "colab": {
          "base_uri": "https://localhost:8080/"
        }
      },
      "id": "BR-Qx85FXyAQ",
      "execution_count": 115,
      "outputs": [
        {
          "output_type": "stream",
          "name": "stdout",
          "text": [
            "3\n",
            "4\n",
            "5\n",
            "6\n",
            "7\n",
            "8\n",
            "9\n"
          ]
        }
      ]
    },
    {
      "cell_type": "code",
      "source": [
        "for i in range(3, 15, 4):\n",
        "    print(i)"
      ],
      "metadata": {
        "id": "vlY1IIGPa3EE",
        "outputId": "932d7e1f-f6cd-4641-eced-0a6aaa3279e6",
        "colab": {
          "base_uri": "https://localhost:8080/"
        }
      },
      "id": "vlY1IIGPa3EE",
      "execution_count": 117,
      "outputs": [
        {
          "output_type": "stream",
          "name": "stdout",
          "text": [
            "3\n",
            "7\n",
            "11\n"
          ]
        }
      ]
    },
    {
      "cell_type": "code",
      "source": [
        "a_list = ['Monday', 'Tuesday', 'Wednesday', 'Thursday', 'Friday']\n",
        "\n",
        "for i in range(len(a_list)):\n",
        "    print('The value at position {} is {}.'.format(i, a_list[i]))"
      ],
      "metadata": {
        "id": "RI46wcIaa3Lj",
        "outputId": "8cb6ccd3-65ed-49ea-cc45-521bb88611a0",
        "colab": {
          "base_uri": "https://localhost:8080/"
        }
      },
      "id": "RI46wcIaa3Lj",
      "execution_count": 123,
      "outputs": [
        {
          "output_type": "stream",
          "name": "stdout",
          "text": [
            "The value at position 0 is Monday.\n",
            "The value at position 1 is Tuesday.\n",
            "The value at position 2 is Wednesday.\n",
            "The value at position 3 is Thursday.\n",
            "The value at position 4 is Friday.\n"
          ]
        }
      ]
    },
    {
      "cell_type": "markdown",
      "source": [
        "Another way to achieve the same result is by using the enumerate function with a_list as an input, which returns a tuple containing the index and the corresponding element."
      ],
      "metadata": {
        "id": "4E2ig8xAb9HS"
      },
      "id": "4E2ig8xAb9HS"
    },
    {
      "cell_type": "code",
      "source": [
        "for i, val in enumerate(a_list):\n",
        "    print('The value at position {} is {}.'.format(i, val))"
      ],
      "metadata": {
        "id": "KYr1Nobab-DD",
        "outputId": "96feed53-1b43-4c50-caaf-7e61bba3c55a",
        "colab": {
          "base_uri": "https://localhost:8080/"
        }
      },
      "id": "KYr1Nobab-DD",
      "execution_count": 124,
      "outputs": [
        {
          "output_type": "stream",
          "name": "stdout",
          "text": [
            "The value at position 0 is Monday.\n",
            "The value at position 1 is Tuesday.\n",
            "The value at position 2 is Wednesday.\n",
            "The value at position 3 is Thursday.\n",
            "The value at position 4 is Friday.\n"
          ]
        }
      ]
    },
    {
      "cell_type": "markdown",
      "source": [
        "**break, continue and pass statemen**ts\n",
        "Similar to while loops, for loops also support the break and continue statements. break is used for breaking out of the loop and continue is used for skipping ahead to the next iteration."
      ],
      "metadata": {
        "id": "5i-_LqiwcNIq"
      },
      "id": "5i-_LqiwcNIq"
    },
    {
      "cell_type": "code",
      "source": [
        "weekdays = ['Monday', 'Tuesday', 'Wednesday', 'Thursday', 'Friday']"
      ],
      "metadata": {
        "id": "vc2ywiZpa3O9"
      },
      "id": "vc2ywiZpa3O9",
      "execution_count": 125,
      "outputs": []
    },
    {
      "cell_type": "code",
      "source": [
        "for day in weekdays:\n",
        "    print('Today is {}'.format(day))\n",
        "    if (day == 'Wednesday'):\n",
        "        print(\"I don't work beyond Wednesday!\")\n",
        "        break"
      ],
      "metadata": {
        "id": "jp76scDNcWid",
        "outputId": "5cecf7ff-42a3-467c-c204-4afa6ba47209",
        "colab": {
          "base_uri": "https://localhost:8080/"
        }
      },
      "id": "jp76scDNcWid",
      "execution_count": 126,
      "outputs": [
        {
          "output_type": "stream",
          "name": "stdout",
          "text": [
            "Today is Monday\n",
            "Today is Tuesday\n",
            "Today is Wednesday\n",
            "I don't work beyond Wednesday!\n"
          ]
        }
      ]
    },
    {
      "cell_type": "code",
      "source": [
        "for day in weekdays:\n",
        "    if (day == 'Wednesday'):\n",
        "        print(\"I don't work on Wednesday!\")\n",
        "        continue\n",
        "    print('Today is {}'.format(day))\n"
      ],
      "metadata": {
        "id": "Uem3-62ycWq-",
        "outputId": "26d2bf0c-ac0e-43d4-8d06-77ab8171d476",
        "colab": {
          "base_uri": "https://localhost:8080/"
        }
      },
      "id": "Uem3-62ycWq-",
      "execution_count": 127,
      "outputs": [
        {
          "output_type": "stream",
          "name": "stdout",
          "text": [
            "Today is Monday\n",
            "Today is Tuesday\n",
            "I don't work on Wednesday!\n",
            "Today is Thursday\n",
            "Today is Friday\n"
          ]
        }
      ]
    },
    {
      "cell_type": "code",
      "source": [
        "#Like if statements, for loops cannot be empty, so you can use a pass statement if you don't want to execute any statements inside the loop.\n",
        "for day in weekdays:\n",
        "    pass\n"
      ],
      "metadata": {
        "id": "IcRvMOrucW1t"
      },
      "id": "IcRvMOrucW1t",
      "execution_count": 128,
      "outputs": []
    },
    {
      "cell_type": "markdown",
      "source": [
        "Nested for and while loops"
      ],
      "metadata": {
        "id": "GPtlWWJodF2y"
      },
      "id": "GPtlWWJodF2y"
    },
    {
      "cell_type": "code",
      "source": [
        "days = ['Monday', 'Tuesday', 'Wednesday']\n",
        "fruits = ['apple', 'banana', 'guava']\n",
        "\n",
        "for day in days:\n",
        "    for fruit in fruits:\n",
        "        print(day)\n",
        "        print(fruit)\n"
      ],
      "metadata": {
        "id": "BUlQX4WscW8M",
        "outputId": "bc63f16e-6ddc-44c0-a54f-b351ba9281a0",
        "colab": {
          "base_uri": "https://localhost:8080/"
        }
      },
      "id": "BUlQX4WscW8M",
      "execution_count": 131,
      "outputs": [
        {
          "output_type": "stream",
          "name": "stdout",
          "text": [
            "Monday\n",
            "apple\n",
            "Monday\n",
            "banana\n",
            "Monday\n",
            "guava\n",
            "Tuesday\n",
            "apple\n",
            "Tuesday\n",
            "banana\n",
            "Tuesday\n",
            "guava\n",
            "Wednesday\n",
            "apple\n",
            "Wednesday\n",
            "banana\n",
            "Wednesday\n",
            "guava\n"
          ]
        }
      ]
    },
    {
      "cell_type": "code",
      "source": [
        "days = ['Monday', 'Tuesday', 'Wednesday']\n",
        "fruits = ['apple', 'banana', 'guava']\n",
        "\n",
        "for day in days:\n",
        "    for fruit in fruits:\n",
        "        print(day, fruit)"
      ],
      "metadata": {
        "id": "uB8uHyDPa3VV",
        "outputId": "5daaf36c-c448-4c71-c281-f12115477291",
        "colab": {
          "base_uri": "https://localhost:8080/"
        }
      },
      "id": "uB8uHyDPa3VV",
      "execution_count": 133,
      "outputs": [
        {
          "output_type": "stream",
          "name": "stdout",
          "text": [
            "Monday apple\n",
            "Monday banana\n",
            "Monday guava\n",
            "Tuesday apple\n",
            "Tuesday banana\n",
            "Tuesday guava\n",
            "Wednesday apple\n",
            "Wednesday banana\n",
            "Wednesday guava\n"
          ]
        }
      ]
    },
    {
      "cell_type": "markdown",
      "source": [
        "\n",
        "What is branching in programming languages?\n",
        "\n",
        "What is the purpose of the if statement in Python?\n",
        "\n",
        "What is the syntax of the if statement? Give an example.\n",
        "\n",
        "What is indentation? Why is it used?\n",
        "\n",
        "What is an indented block of statements?\n",
        "\n",
        "How do you perform indentation in Python?\n",
        "\n",
        "What happens if some code is not indented correctly?\n",
        "\n",
        "What happens when the condition within the if statement evaluates to True? What happens if the condition evaluates for false?\n",
        "\n",
        "How do you check if a number is even?\n",
        "What is the purpose of the else statement in Python?\n",
        "\n",
        "What is the syntax of the else statement? Give an example.\n",
        "\n",
        "Write a program that prints different messages based on whether a number is positive or negative.\n",
        "\n",
        "Can the else statement be used without an if statement?\n",
        "\n",
        "What is the purpose of the elif statement in Python?\n",
        "\n",
        "What is the syntax of the elif statement? Give an example.\n",
        "\n",
        "Write a program that prints different messages for different months of the year.\n",
        "\n",
        "Write a program that uses if, elif, and else statements together.\n",
        "\n",
        "Can the elif statement be used without an if statement?\n",
        "\n",
        "Can the elif statement be used without an else statement?\n",
        "\n",
        "What is the difference between a chain of if, elif, elif… statements and a chain of if, if, if… statements? Give an example.\n",
        "\n",
        "Can non-boolean conditions be used with if statements? Give some examples.\n",
        "\n",
        "What are nested conditional statements?\n",
        "\n",
        " How are they useful?\n",
        "\n",
        "Give an example of nested conditional statements.\n",
        "\n",
        "Why is it advisable to avoid nested conditional statements?\n",
        "\n",
        "What is the shorthand if conditional expression?\n",
        "\n",
        "What is the syntax of the shorthand if conditional expression? Give an example.\n",
        "\n",
        "What is the difference between the shorthand if expression and the regular if statement?\n",
        "\n",
        "What is a statement in Python?\n",
        "\n",
        "What is an expression in Python?\n",
        "\n",
        "What is the difference between statements and expressions?\n",
        "\n",
        "Is every statement an expression? Give an example or counterexample.\n",
        "\n",
        "Is every expression a statement? Give an example or counterexample.\n",
        "\n",
        "What is the purpose of the pass statement in if blocks?\n",
        "\n",
        "What is iteration or looping in programming languages? Why is it useful?\n",
        "\n",
        "What are the two ways for performing iteration in Python?\n",
        "\n",
        "What is the purpose of the while statement in Python?\n",
        "\n",
        "What is the syntax of the white statement in Python? Give an example.\n",
        "\n",
        "Write a program to compute the sum of the numbers 1 to 100 using a while loop.\n",
        "Repeat the above program for numbers up to 1000, 10000, and 100000. How long does it take each loop to complete?\n",
        "\n",
        "What is an infinite loop?\n",
        "\n",
        "What causes a program to enter an infinite loop?\n",
        "\n",
        "How do you interrupt an infinite loop within Jupyter?\n",
        "\n",
        "What is the purpose of the break statement in Python?\n",
        "\n",
        "Give an example of using a break statement within a while loop.\n",
        "\n",
        "What is the purpose of the continue statement in Python?\n",
        "\n",
        "Give an example of using the continue statement within a while loop.\n",
        "\n",
        "What is logging? How is it useful?\n",
        "\n",
        "What is the purpose of the for statement in Python?\n",
        "\n",
        "What is the syntax of for loops? Give an example.\n",
        "\n",
        "How are for loops and while loops different?\n",
        "\n",
        "How do you loop over a string? Give an example.\n",
        "\n",
        "How do you loop over a list? Give an example.\n",
        "\n",
        "How do you loop over a tuple? Give an example.\n",
        "\n",
        "How do you loop over a dictionary? Give an example.\n",
        "\n",
        "What is the purpose of the range statement? Give an example.\n",
        "\n",
        "What is the purpose of the enumerate statement? Give an example.\n",
        "\n",
        "How are the break, continue, and pass statements used in for loops? Give examples.\n",
        "\n",
        "Can loops be nested within other loops?\n",
        "How is nesting useful?\n",
        "\n",
        "Give an example of a for loop nested within another for loop.\n",
        "\n",
        "Give an example of a while loop nested within another while loop.\n",
        "\n",
        "Give an example of a for loop nested within a while loop.\n",
        "\n",
        "Give an example of a while loop nested within a for loop."
      ],
      "metadata": {
        "id": "hk6f-yFnd0M6"
      },
      "id": "hk6f-yFnd0M6"
    },
    {
      "cell_type": "code",
      "source": [],
      "metadata": {
        "id": "M2yRpnSDa3Y4"
      },
      "id": "M2yRpnSDa3Y4",
      "execution_count": null,
      "outputs": []
    },
    {
      "cell_type": "code",
      "source": [],
      "metadata": {
        "id": "cFb9Kxy2a3cW"
      },
      "id": "cFb9Kxy2a3cW",
      "execution_count": null,
      "outputs": []
    },
    {
      "cell_type": "code",
      "source": [],
      "metadata": {
        "id": "qu5nH2Tga3f0"
      },
      "id": "qu5nH2Tga3f0",
      "execution_count": null,
      "outputs": []
    }
  ],
  "metadata": {
    "kernelspec": {
      "display_name": "Python 3",
      "name": "python3"
    },
    "language_info": {
      "name": "python"
    },
    "required_libs": [],
    "colab": {
      "provenance": [],
      "include_colab_link": true
    }
  },
  "nbformat": 4,
  "nbformat_minor": 5
}