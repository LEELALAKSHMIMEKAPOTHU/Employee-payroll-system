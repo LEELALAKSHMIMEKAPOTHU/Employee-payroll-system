{
  "cells": [
    {
      "cell_type": "markdown",
      "metadata": {
        "id": "view-in-github",
        "colab_type": "text"
      },
      "source": [
        "<a href=\"https://colab.research.google.com/github/LEELALAKSHMIMEKAPOTHU/Employee-payroll-system/blob/main/chapter_appendix-tools-for-deep-learning/jupyter.ipynb\" target=\"_parent\"><img src=\"https://colab.research.google.com/assets/colab-badge.svg\" alt=\"Open In Colab\"/></a>"
      ]
    },
    {
      "cell_type": "code",
      "source": [
        "if(5%2==0):\n",
        "  print('even')\n",
        "else:\n",
        "  print(\"odd\")"
      ],
      "metadata": {
        "id": "I_S0e_SyATqo",
        "outputId": "3a22a9ae-9a60-445b-d6bf-7ee11a79454d",
        "colab": {
          "base_uri": "https://localhost:8080/"
        }
      },
      "id": "I_S0e_SyATqo",
      "execution_count": 3,
      "outputs": [
        {
          "output_type": "stream",
          "name": "stdout",
          "text": [
            "odd\n"
          ]
        }
      ]
    },
    {
      "cell_type": "code",
      "source": [
        "5+7\n"
      ],
      "metadata": {
        "id": "F14Cn4STAyLN",
        "outputId": "9ca10a89-1792-4ca9-d788-ee42a77552dd",
        "colab": {
          "base_uri": "https://localhost:8080/"
        }
      },
      "id": "F14Cn4STAyLN",
      "execution_count": 4,
      "outputs": [
        {
          "output_type": "execute_result",
          "data": {
            "text/plain": [
              "12"
            ]
          },
          "metadata": {},
          "execution_count": 4
        }
      ]
    },
    {
      "cell_type": "code",
      "source": [
        "7-5"
      ],
      "metadata": {
        "id": "xRqXR6YxBdds",
        "outputId": "cdc326f1-597c-4bc4-aca4-213ab4d1a9d4",
        "colab": {
          "base_uri": "https://localhost:8080/"
        }
      },
      "id": "xRqXR6YxBdds",
      "execution_count": 5,
      "outputs": [
        {
          "output_type": "execute_result",
          "data": {
            "text/plain": [
              "2"
            ]
          },
          "metadata": {},
          "execution_count": 5
        }
      ]
    },
    {
      "cell_type": "code",
      "source": [
        "7*5"
      ],
      "metadata": {
        "id": "8kOfWsElBeBW",
        "outputId": "f36bd83c-07bf-4010-f2b7-fd14db13e5d6",
        "colab": {
          "base_uri": "https://localhost:8080/"
        }
      },
      "id": "8kOfWsElBeBW",
      "execution_count": 6,
      "outputs": [
        {
          "output_type": "execute_result",
          "data": {
            "text/plain": [
              "35"
            ]
          },
          "metadata": {},
          "execution_count": 6
        }
      ]
    },
    {
      "cell_type": "code",
      "source": [
        "7/5"
      ],
      "metadata": {
        "id": "GYlhVQ2xBeJk",
        "outputId": "042489f4-c525-4897-8d9e-f668e0ec1a83",
        "colab": {
          "base_uri": "https://localhost:8080/"
        }
      },
      "id": "GYlhVQ2xBeJk",
      "execution_count": 7,
      "outputs": [
        {
          "output_type": "execute_result",
          "data": {
            "text/plain": [
              "1.4"
            ]
          },
          "metadata": {},
          "execution_count": 7
        }
      ]
    },
    {
      "cell_type": "code",
      "source": [
        "7**5"
      ],
      "metadata": {
        "id": "Y4zap7cMBeNK",
        "outputId": "5538af8a-f7be-41da-b955-074e6cd226cc",
        "colab": {
          "base_uri": "https://localhost:8080/"
        }
      },
      "id": "Y4zap7cMBeNK",
      "execution_count": 8,
      "outputs": [
        {
          "output_type": "execute_result",
          "data": {
            "text/plain": [
              "16807"
            ]
          },
          "metadata": {},
          "execution_count": 8
        }
      ]
    },
    {
      "cell_type": "code",
      "source": [
        "2**5"
      ],
      "metadata": {
        "id": "iglqRF3BBeRF",
        "outputId": "0b93ca13-8de0-4f78-db19-d01248007724",
        "colab": {
          "base_uri": "https://localhost:8080/"
        }
      },
      "id": "iglqRF3BBeRF",
      "execution_count": 9,
      "outputs": [
        {
          "output_type": "execute_result",
          "data": {
            "text/plain": [
              "32"
            ]
          },
          "metadata": {},
          "execution_count": 9
        }
      ]
    },
    {
      "cell_type": "code",
      "source": [
        "5**2"
      ],
      "metadata": {
        "id": "O-aUR5ODBeUl",
        "outputId": "13788b1d-52ec-41ba-8600-f494c9f56dde",
        "colab": {
          "base_uri": "https://localhost:8080/"
        }
      },
      "id": "O-aUR5ODBeUl",
      "execution_count": 10,
      "outputs": [
        {
          "output_type": "execute_result",
          "data": {
            "text/plain": [
              "25"
            ]
          },
          "metadata": {},
          "execution_count": 10
        }
      ]
    },
    {
      "cell_type": "code",
      "source": [
        "7%5"
      ],
      "metadata": {
        "id": "FR8aq3DkBeYG",
        "outputId": "0cdd270e-1a08-4b4f-a37d-5ac00e5353cf",
        "colab": {
          "base_uri": "https://localhost:8080/"
        }
      },
      "id": "FR8aq3DkBeYG",
      "execution_count": 11,
      "outputs": [
        {
          "output_type": "execute_result",
          "data": {
            "text/plain": [
              "2"
            ]
          },
          "metadata": {},
          "execution_count": 11
        }
      ]
    },
    {
      "cell_type": "code",
      "source": [
        "10%2"
      ],
      "metadata": {
        "id": "41nQv09oBy35",
        "outputId": "6eb00afc-38be-4eb0-a410-083fbf438e57",
        "colab": {
          "base_uri": "https://localhost:8080/"
        }
      },
      "id": "41nQv09oBy35",
      "execution_count": 12,
      "outputs": [
        {
          "output_type": "execute_result",
          "data": {
            "text/plain": [
              "0"
            ]
          },
          "metadata": {},
          "execution_count": 12
        }
      ]
    },
    {
      "cell_type": "code",
      "source": [
        "10//2"
      ],
      "metadata": {
        "id": "x5CMGGRIBzAa",
        "outputId": "382a44fa-d909-48e5-edd3-41fbb168e166",
        "colab": {
          "base_uri": "https://localhost:8080/"
        }
      },
      "id": "x5CMGGRIBzAa",
      "execution_count": 13,
      "outputs": [
        {
          "output_type": "execute_result",
          "data": {
            "text/plain": [
              "5"
            ]
          },
          "metadata": {},
          "execution_count": 13
        }
      ]
    },
    {
      "cell_type": "code",
      "source": [
        "7//5"
      ],
      "metadata": {
        "id": "3m3mPoGkCEZl",
        "outputId": "aff4c74c-8f12-43ff-db94-a2c313c445b2",
        "colab": {
          "base_uri": "https://localhost:8080/"
        }
      },
      "id": "3m3mPoGkCEZl",
      "execution_count": 14,
      "outputs": [
        {
          "output_type": "execute_result",
          "data": {
            "text/plain": [
              "1"
            ]
          },
          "metadata": {},
          "execution_count": 14
        }
      ]
    },
    {
      "cell_type": "code",
      "source": [
        "if(8>=10):\n",
        "  print(\"hello\")\n",
        "else:\n",
        "  print(\"bye\")"
      ],
      "metadata": {
        "id": "aagwnV_KCEdb",
        "outputId": "cbade6bb-eb6d-402a-d046-2be7eaa855f0",
        "colab": {
          "base_uri": "https://localhost:8080/"
        }
      },
      "id": "aagwnV_KCEdb",
      "execution_count": 17,
      "outputs": [
        {
          "output_type": "stream",
          "name": "stdout",
          "text": [
            "bye\n"
          ]
        }
      ]
    },
    {
      "cell_type": "code",
      "source": [
        "if(2==2):\n",
        "  print(\"hi\")\n",
        "else:\n",
        "  print(\"hello\")"
      ],
      "metadata": {
        "id": "oWheEX51CEhO",
        "outputId": "f7a38e20-8dce-40be-8e46-972da766d170",
        "colab": {
          "base_uri": "https://localhost:8080/"
        }
      },
      "id": "oWheEX51CEhO",
      "execution_count": 18,
      "outputs": [
        {
          "output_type": "stream",
          "name": "stdout",
          "text": [
            "hi\n"
          ]
        }
      ]
    },
    {
      "cell_type": "code",
      "source": [
        "(198568)-(45312+35678)"
      ],
      "metadata": {
        "id": "IcqF0GK2CEkp",
        "outputId": "314a3355-277c-4a1f-bfff-391f7b3087f0",
        "colab": {
          "base_uri": "https://localhost:8080/"
        }
      },
      "id": "IcqF0GK2CEkp",
      "execution_count": 19,
      "outputs": [
        {
          "output_type": "execute_result",
          "data": {
            "text/plain": [
              "117578"
            ]
          },
          "metadata": {},
          "execution_count": 19
        }
      ]
    },
    {
      "cell_type": "code",
      "source": [
        "2425*24"
      ],
      "metadata": {
        "id": "tZddAdk1CEoi",
        "outputId": "41a66565-82b8-4a85-c448-75338bff85b4",
        "colab": {
          "base_uri": "https://localhost:8080/"
        }
      },
      "id": "tZddAdk1CEoi",
      "execution_count": 20,
      "outputs": [
        {
          "output_type": "execute_result",
          "data": {
            "text/plain": [
              "58200"
            ]
          },
          "metadata": {},
          "execution_count": 20
        }
      ]
    },
    {
      "cell_type": "code",
      "source": [
        "5000-(2265+2150)"
      ],
      "metadata": {
        "id": "PaVAh9I-CEsH",
        "outputId": "aee785a5-7e9a-4538-af7c-d1eb469e70b6",
        "colab": {
          "base_uri": "https://localhost:8080/"
        }
      },
      "id": "PaVAh9I-CEsH",
      "execution_count": 22,
      "outputs": [
        {
          "output_type": "execute_result",
          "data": {
            "text/plain": [
              "585"
            ]
          },
          "metadata": {},
          "execution_count": 22
        }
      ]
    },
    {
      "cell_type": "code",
      "source": [
        "95844/21"
      ],
      "metadata": {
        "id": "Mj-UCzPpDjj3",
        "outputId": "f5a3b888-47d7-44eb-a7b9-510affe9819e",
        "colab": {
          "base_uri": "https://localhost:8080/"
        }
      },
      "id": "Mj-UCzPpDjj3",
      "execution_count": 23,
      "outputs": [
        {
          "output_type": "execute_result",
          "data": {
            "text/plain": [
              "4564.0"
            ]
          },
          "metadata": {},
          "execution_count": 23
        }
      ]
    },
    {
      "cell_type": "code",
      "source": [
        "24532*12"
      ],
      "metadata": {
        "id": "h36np5vIDjn5",
        "outputId": "00570ba7-64e4-4a5a-abfa-a6a28e099dcc",
        "colab": {
          "base_uri": "https://localhost:8080/"
        }
      },
      "id": "h36np5vIDjn5",
      "execution_count": 24,
      "outputs": [
        {
          "output_type": "execute_result",
          "data": {
            "text/plain": [
              "294384"
            ]
          },
          "metadata": {},
          "execution_count": 24
        }
      ]
    },
    {
      "cell_type": "code",
      "source": [
        "450000-(145968+236487)"
      ],
      "metadata": {
        "id": "e-h9k2SqDjre",
        "outputId": "20a8493e-109d-4b8d-cd54-9ac02b77d1a5",
        "colab": {
          "base_uri": "https://localhost:8080/"
        }
      },
      "id": "e-h9k2SqDjre",
      "execution_count": 25,
      "outputs": [
        {
          "output_type": "execute_result",
          "data": {
            "text/plain": [
              "67545"
            ]
          },
          "metadata": {},
          "execution_count": 25
        }
      ]
    },
    {
      "cell_type": "code",
      "source": [
        "483685-(146345+138152)"
      ],
      "metadata": {
        "id": "EP9h35S9Dju2",
        "outputId": "53cfbc28-ce2f-4a48-f618-5ba89a2f7c8b",
        "colab": {
          "base_uri": "https://localhost:8080/"
        }
      },
      "id": "EP9h35S9Dju2",
      "execution_count": 26,
      "outputs": [
        {
          "output_type": "execute_result",
          "data": {
            "text/plain": [
              "199188"
            ]
          },
          "metadata": {},
          "execution_count": 26
        }
      ]
    },
    {
      "cell_type": "code",
      "source": [
        "9372*124"
      ],
      "metadata": {
        "id": "g1QSD637EDov",
        "outputId": "9320fb40-9f73-4589-deb8-d11499e1682a",
        "colab": {
          "base_uri": "https://localhost:8080/"
        }
      },
      "id": "g1QSD637EDov",
      "execution_count": 27,
      "outputs": [
        {
          "output_type": "execute_result",
          "data": {
            "text/plain": [
              "1162128"
            ]
          },
          "metadata": {},
          "execution_count": 27
        }
      ]
    },
    {
      "cell_type": "code",
      "source": [
        "4386/86"
      ],
      "metadata": {
        "id": "fWD0ZYh3EDwf",
        "outputId": "66e52eab-2439-40c9-ae5c-37b6968ad04c",
        "colab": {
          "base_uri": "https://localhost:8080/"
        }
      },
      "id": "fWD0ZYh3EDwf",
      "execution_count": 28,
      "outputs": [
        {
          "output_type": "execute_result",
          "data": {
            "text/plain": [
              "51.0"
            ]
          },
          "metadata": {},
          "execution_count": 28
        }
      ]
    },
    {
      "cell_type": "code",
      "source": [
        "1575/75"
      ],
      "metadata": {
        "id": "Q4io5CFFED2P",
        "outputId": "8570e8e5-0378-4b4c-ff69-20fbfab3606d",
        "colab": {
          "base_uri": "https://localhost:8080/"
        }
      },
      "id": "Q4io5CFFED2P",
      "execution_count": 29,
      "outputs": [
        {
          "output_type": "execute_result",
          "data": {
            "text/plain": [
              "21.0"
            ]
          },
          "metadata": {},
          "execution_count": 29
        }
      ]
    },
    {
      "cell_type": "code",
      "source": [
        "1475*35"
      ],
      "metadata": {
        "id": "j7IMVh0BEwcd",
        "outputId": "0a9d6cea-8cb8-4a57-9fe3-db34e23058f7",
        "colab": {
          "base_uri": "https://localhost:8080/"
        }
      },
      "id": "j7IMVh0BEwcd",
      "execution_count": 30,
      "outputs": [
        {
          "output_type": "execute_result",
          "data": {
            "text/plain": [
              "51625"
            ]
          },
          "metadata": {},
          "execution_count": 30
        }
      ]
    },
    {
      "cell_type": "code",
      "source": [
        "52496+44929+36824"
      ],
      "metadata": {
        "id": "9zLeUqjyEwiz",
        "outputId": "b86d6030-cd1d-4739-f4ac-2dffabf6fcde",
        "colab": {
          "base_uri": "https://localhost:8080/"
        }
      },
      "id": "9zLeUqjyEwiz",
      "execution_count": 31,
      "outputs": [
        {
          "output_type": "execute_result",
          "data": {
            "text/plain": [
              "134249"
            ]
          },
          "metadata": {},
          "execution_count": 31
        }
      ]
    },
    {
      "cell_type": "code",
      "source": [
        "12960/96"
      ],
      "metadata": {
        "id": "sTkB0CY4Ewmr",
        "outputId": "3009e410-bf3c-443a-a4ab-5d2e6e1d82e3",
        "colab": {
          "base_uri": "https://localhost:8080/"
        }
      },
      "id": "sTkB0CY4Ewmr",
      "execution_count": 36,
      "outputs": [
        {
          "output_type": "execute_result",
          "data": {
            "text/plain": [
              "135.0"
            ]
          },
          "metadata": {},
          "execution_count": 36
        }
      ]
    },
    {
      "cell_type": "code",
      "source": [],
      "metadata": {
        "id": "meqBOoZNEwsT",
        "outputId": "8580a8a2-bdc7-4911-f647-e5b82b78be38",
        "colab": {
          "base_uri": "https://localhost:8080/"
        }
      },
      "id": "meqBOoZNEwsT",
      "execution_count": 37,
      "outputs": [
        {
          "output_type": "execute_result",
          "data": {
            "text/plain": [
              "1150"
            ]
          },
          "metadata": {},
          "execution_count": 37
        }
      ]
    },
    {
      "cell_type": "code",
      "source": [
        "29*200-5000"
      ],
      "metadata": {
        "id": "XZe-UjooEw3V",
        "outputId": "916a8745-4c47-459c-f117-a2e5cda8e4e8",
        "colab": {
          "base_uri": "https://localhost:8080/"
        }
      },
      "id": "XZe-UjooEw3V",
      "execution_count": 39,
      "outputs": [
        {
          "output_type": "execute_result",
          "data": {
            "text/plain": [
              "800"
            ]
          },
          "metadata": {},
          "execution_count": 39
        }
      ]
    },
    {
      "cell_type": "code",
      "source": [
        "!pip install jovian --upgrade --quiet\n"
      ],
      "metadata": {
        "id": "iEa9tJY0HRlH",
        "outputId": "f826e5d9-a7a7-4520-daf9-2efb3c4761e9",
        "colab": {
          "base_uri": "https://localhost:8080/"
        }
      },
      "id": "iEa9tJY0HRlH",
      "execution_count": 41,
      "outputs": [
        {
          "output_type": "stream",
          "name": "stdout",
          "text": [
            "  Preparing metadata (setup.py) ... \u001b[?25l\u001b[?25hdone\n",
            "\u001b[?25l   \u001b[90m━━━━━━━━━━━━━━━━━━━━━━━━━━━━━━━━━━━━━━━━\u001b[0m \u001b[32m0.0/68.6 kB\u001b[0m \u001b[31m?\u001b[0m eta \u001b[36m-:--:--\u001b[0m\r\u001b[2K   \u001b[90m━━━━━━━━━━━━━━━━━━━━━━━━━━━━━━━━━━━━━━━━\u001b[0m \u001b[32m68.6/68.6 kB\u001b[0m \u001b[31m2.9 MB/s\u001b[0m eta \u001b[36m0:00:00\u001b[0m\n",
            "\u001b[?25h  Building wheel for uuid (setup.py) ... \u001b[?25l\u001b[?25hdone\n"
          ]
        }
      ]
    },
    {
      "cell_type": "code",
      "source": [
        "import jovian"
      ],
      "metadata": {
        "id": "RWILIcq_HTMU"
      },
      "id": "RWILIcq_HTMU",
      "execution_count": 43,
      "outputs": []
    },
    {
      "cell_type": "code",
      "source": [
        "jovian.commit(project='first-steps-with-python')"
      ],
      "metadata": {
        "id": "fJ9CQxVmHUqZ",
        "outputId": "5ea7d3e9-bf2a-41ae-c175-c704f86f0a44",
        "colab": {
          "base_uri": "https://localhost:8080/"
        }
      },
      "id": "fJ9CQxVmHUqZ",
      "execution_count": 44,
      "outputs": [
        {
          "output_type": "stream",
          "name": "stdout",
          "text": [
            "[jovian] Detected Colab notebook...\u001b[0m\n",
            "[jovian] jovian.commit() is no longer required on Google Colab. If you ran this notebook from Jovian, \n",
            "then just save this file in Colab using Ctrl+S/Cmd+S and it will be updated on Jovian. \n",
            "Also, you can also delete this cell, it's no longer necessary.\u001b[0m\n"
          ]
        }
      ]
    },
    {
      "cell_type": "code",
      "source": [],
      "metadata": {
        "id": "yKGFnusRHVCM"
      },
      "id": "yKGFnusRHVCM",
      "execution_count": null,
      "outputs": []
    },
    {
      "cell_type": "code",
      "source": [
        ""
      ],
      "metadata": {
        "id": "RlsjyVteHVW8"
      },
      "id": "RlsjyVteHVW8",
      "execution_count": null,
      "outputs": []
    },
    {
      "cell_type": "code",
      "source": [],
      "metadata": {
        "id": "mPejCy-GHozz"
      },
      "id": "mPejCy-GHozz",
      "execution_count": null,
      "outputs": []
    }
  ],
  "metadata": {
    "kernelspec": {
      "display_name": "Python 3",
      "name": "python3"
    },
    "language_info": {
      "name": "python"
    },
    "required_libs": [],
    "colab": {
      "provenance": [],
      "include_colab_link": true
    }
  },
  "nbformat": 4,
  "nbformat_minor": 5
}